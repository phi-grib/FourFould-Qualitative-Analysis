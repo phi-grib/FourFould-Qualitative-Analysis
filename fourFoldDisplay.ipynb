{
 "cells": [
  {
   "cell_type": "code",
   "execution_count": 1,
   "metadata": {},
   "outputs": [],
   "source": [
    "# -*- coding: utf-8 -*-\n",
    "\n",
    "##    Description    Tools for qualitative endpoints\n",
    "##                   \n",
    "##    Authors:      Kevin Pinto Gil (kevin.pinto@upf.edu)\n",
    "##                  Manuel Pastor (manuel.pastor@upf.edu) \n",
    "##\n",
    "##    Copyright 2013 Manuel Pastor\n",
    "##\n",
    "##    This file is part of eTOXlab.\n",
    "##\n",
    "##    eTOXlab is free software: you can redistribute it and/or modify\n",
    "##    it under the terms of the GNU General Public License as published by\n",
    "##    the Free Software Foundation version 3.\n",
    "##\n",
    "##    eTOXlab is distributed in the hope that it will be useful,\n",
    "##    but WITHOUT ANY WARRANTY; without even the implied warranty of\n",
    "##    MERCHANTABILITY or FITNESS FOR A PARTICULAR PURPOSE.  See the\n",
    "##    GNU General Public License for more details.\n",
    "##\n",
    "##    You should have received a copy of the GNU General Public License\n",
    "##    along with eTOXlab.  If not, see <http://www.gnu.org/licenses/>.\n",
    "\n",
    "import urllib\n",
    "import os\n",
    "import sys\n",
    "import getopt\n",
    "import numpy as np\n",
    "import matplotlib.pyplot as plt\n",
    "from math import sqrt\n",
    "# %matplotlib\n"
   ]
  },
  {
   "cell_type": "code",
   "execution_count": 32,
   "metadata": {},
   "outputs": [],
   "source": [
    "def FourfoldDisplay(TP, TN, FP, FN, label, name, endpoint):\n",
    "    \"\"\" Draws confusion matrix graphical representation\n",
    "    Usage:\n",
    "        44Display.py -a TP -b  TN -c FP -d FN -l label -n name\n",
    "        Display.py -a 10 -b 50 -c 20 -d 50 -l \"PLS Predicted Confusion Matrix\"\n",
    "                     -n RF_predicted_confusion_matrix.png -e Nonneoplasic\n",
    "    \"\"\"\n",
    "    print TP, TN, FP, FN\n",
    "    TP = float(TP)\n",
    "    TN = float(TN)\n",
    "    FP = float(FP)\n",
    "    FN = float(FN)\n",
    "    print TP + TN\n",
    "    sensitivity = TP/(TP+FN)\n",
    "    specificity = TN/(TN+FP)\n",
    "    print 'sens', sensitivity, 'spec', specificity\n",
    "    width = np.pi / 2.0\n",
    "    theta = np.radians([0,90,180,270])\n",
    "    table = [FP,TP,FN,TN]\n",
    "##    plt.figure(\"RF-Qualitative_validation\")\n",
    "\n",
    "    my_dpi = 96 ### size of my figure\n",
    "    fig0 = plt.figure(figsize=(1250/my_dpi, 800/my_dpi))\n",
    "\n",
    "    plt.clf()\n",
    "    ax = plt.subplot(121, polar=True, adjustable='box', aspect=1)    \n",
    "    bars = ax.bar(theta, table, width=width, color=[\"red\", \"lightblue\", \"red\", \"lightblue\"])\n",
    "##    plt.title( label )\n",
    "\n",
    "    ax.set_xticklabels([\"\",\"FP (%s) \\n\\n\" % str(int(FP)), \"\",  \"TP (%s) \\n\\n\" % str(int(TP)),\n",
    "                        \"\", \"\\n\\n\\nFN (%s)\" % str(int(FN)), \n",
    "                        \"\",  \"\\n\\n\\nTN (%s)\" % str(int(TN))], fontsize=14)\n",
    "    ax.set_yticks([])\n",
    "    ax.grid(False)\n",
    "    ax.axes.spines['polar'].set_visible(False)\n",
    "    \n",
    "    ax2 = plt.subplot(122, adjustable='box', aspect=3)\n",
    "    plt.ylim([0,1])\n",
    "#     plt.title(endpoint+'\\n')\n",
    "    \n",
    "    bar_width = 0.5\n",
    "    y = [0, sensitivity, specificity, 0]\n",
    "    index = np.arange(4)\n",
    "    ax2.bar(index, y, bar_width, color=[\"lightgreen\",\"lightgrey\"])\n",
    "#     ax.offset(0.5)\n",
    "    plt.xticks( index + bar_width / 2.0, (\"\", 'Sensitivity', 'Specificity', \"\"))\n",
    "    plt.show()\n",
    "    \n",
    "    fig0.savefig(name)"
   ]
  },
  {
   "cell_type": "code",
   "execution_count": 33,
   "metadata": {
    "collapsed": true
   },
   "outputs": [],
   "source": [
    "### Input files definition\n",
    "\n",
    "TP = 100 ## True positives\n",
    "TN = 200 ## True Negatives\n",
    "FP = 30 ## False Positives\n",
    "FN = 10 ## False Negatives\n",
    "label = \"RF Predicted Confusion Matrix\" ## graph title\n",
    "name = \"RF_predicted_confusion_matrix.png\" ## file name\n",
    "endpoint = \"Nonneoplasic\" ## graph title"
   ]
  },
  {
   "cell_type": "code",
   "execution_count": 34,
   "metadata": {},
   "outputs": [
    {
     "name": "stdout",
     "output_type": "stream",
     "text": [
      "100 200 30 10\n",
      "300.0\n",
      "sens 0.909090909091 spec 0.869565217391\n"
     ]
    },
    {
     "data": {
      "image/png": "[encoded data removed]",
      "text/plain": [
       "<matplotlib.figure.Figure at 0x7f158a29cf90>"
      ]
     },
     "metadata": {},
     "output_type": "display_data"
    }
   ],
   "source": [
    "FourfoldDisplay(TP, TN, FP, FN, label, name, endpoint)"
   ]
  },
  {
   "cell_type": "code",
   "execution_count": null,
   "metadata": {
    "collapsed": true
   },
   "outputs": [],
   "source": []
  }
 ],
 "metadata": {
  "kernelspec": {
   "display_name": "Python 2",
   "language": "python",
   "name": "python2"
  },
  "language_info": {
   "codemirror_mode": {
    "name": "ipython",
    "version": 2
   },
   "file_extension": ".py",
   "mimetype": "text/x-python",
   "name": "python",
   "nbconvert_exporter": "python",
   "pygments_lexer": "ipython2",
   "version": "2.7.13"
  }
 },
 "nbformat": 4,
 "nbformat_minor": 2
}
